{
  "nbformat": 4,
  "nbformat_minor": 0,
  "metadata": {
    "colab": {
      "provenance": [],
      "authorship_tag": "ABX9TyM6vPjp+v6l2uOo6fqsU+AF",
      "include_colab_link": true
    },
    "kernelspec": {
      "name": "python3",
      "display_name": "Python 3"
    },
    "language_info": {
      "name": "python"
    }
  },
  "cells": [
    {
      "cell_type": "markdown",
      "metadata": {
        "id": "view-in-github",
        "colab_type": "text"
      },
      "source": [
        "<a href=\"https://colab.research.google.com/github/orrobles/orrobles/blob/main/Unidad_2/Proyecto_2_Convertidor_de_divisas.ipynb\" target=\"_parent\"><img src=\"https://colab.research.google.com/assets/colab-badge.svg\" alt=\"Open In Colab\"/></a>"
      ]
    },
    {
      "cell_type": "code",
      "execution_count": null,
      "metadata": {
        "id": "YEedxdRDh4eT"
      },
      "outputs": [],
      "source": []
    },
    {
      "cell_type": "markdown",
      "source": [
        "# **Proyecto 2 Convertidor de divisas**\n",
        "\n",
        "## **Oscar Robles Vásquez**\n",
        "\n",
        "# Departamento de Ingeniería Química\n",
        "\n",
        "### Campus: Centro Universitario de Ciencias Exactas e Ingeniería.\n",
        "\n",
        "***Fecha: 12/10/2025***"
      ],
      "metadata": {
        "id": "4V5Zzy-zh9Yh"
      }
    },
    {
      "cell_type": "code",
      "source": [
        "def convert_currency(amount, from_currency, to_currency, exchange_rates):\n",
        "    \"\"\"Converts an amount from one currency to another.\"\"\"\n",
        "    from_currency = from_currency.lower()\n",
        "    to_currency = to_currency.lower()\n",
        "\n",
        "    if from_currency == to_currency:\n",
        "        return amount\n",
        "\n",
        "    if from_currency == \"mxn\":\n",
        "        if to_currency in exchange_rates:\n",
        "            rate = exchange_rates[to_currency]['rate']\n",
        "            return amount * rate\n",
        "        else:\n",
        "            return None\n",
        "    elif to_currency == \"mxn\":\n",
        "         if from_currency in exchange_rates:\n",
        "            rate = exchange_rates[from_currency]['inverseRate']\n",
        "            return amount * rate\n",
        "         else:\n",
        "            return None\n",
        "    else:\n",
        "        # Convert from from_currency to MXN first, then from MXN to to_currency\n",
        "        if from_currency in exchange_rates and to_currency in exchange_rates:\n",
        "            amount_in_mxn = amount * exchange_rates[from_currency]['inverseRate']\n",
        "            converted_amount = amount_in_mxn * exchange_rates[to_currency]['rate']\n",
        "            return converted_amount\n",
        "        else:\n",
        "            return None\n",
        "\n",
        "print(\"\\nAquí tienes una lista de algunas de las divisas más utilizadas y sus códigos:\")\n",
        "print(\"* Dólar estadounidense (USD)\")\n",
        "print(\"* Euro (EUR)\")\n",
        "print(\"* Yen japonés (JPY)\")\n",
        "print(\"* Libra esterlina (GBP)\")\n",
        "print(\"* Dólar australiano (AUD)\")\n",
        "print(\"* Dólar canadiense (CAD)\")\n",
        "print(\"* Franco suizo (CHF)\")\n",
        "print(\"* Yuan chino (CNY)\")\n",
        "print(\"* Dólar de Hong Kong (HKD)\")\n",
        "print(\"* Rupia india (INR)\")\n",
        "print(\"* Won surcoreano (KRW)\")\n",
        "print(\"* Rublo ruso (RUB)\")\n",
        "print(\"* Peso mexicano (MXN)\")\n",
        "\n",
        "while True:\n",
        "    print(\"\\nHas entrado a un convertidor de divisas.\")\n",
        "    print(\"Para salir, teclea 'Q'.\")\n",
        "\n",
        "    from_currency = input(\"1) Introduce el código de tres letras de la divisa que deseas convertir: \").strip().lower()\n",
        "    if from_currency == 'q':\n",
        "        break\n",
        "\n",
        "    to_currency = input(\"2) Introduce el código de divisa de destino: \").strip().lower()\n",
        "    if to_currency == 'q':\n",
        "        break\n",
        "\n",
        "    while True:\n",
        "        amount_str = input(\"3) Introduce la cantidad a convertir (valor numérico): \").strip()\n",
        "        if amount_str.lower() == 'q':\n",
        "            from_currency = 'q' # Set from_currency to 'q' to break outer loop\n",
        "            break\n",
        "        try:\n",
        "            amount = float(amount_str)\n",
        "            break\n",
        "        except ValueError:\n",
        "            print(\"Entrada inválida. Por favor introduce un valor numérico.\")\n",
        "\n",
        "    if from_currency == 'q': # Check if from_currency was set to 'q' in the inner loop\n",
        "        break\n",
        "\n",
        "    converted_amount = convert_currency(amount, from_currency, to_currency, exchange_dict)\n",
        "\n",
        "    if converted_amount is not None:\n",
        "        print(f\"{amount} {from_currency.upper()} son {converted_amount:.2f} {to_currency.upper()}\")\n",
        "    else:\n",
        "        print(\"No se pudo realizar la conversión. Verifica los códigos de divisa.\")\n",
        "\n",
        "    print(\"-\" * 30) # Separator for next conversion\n",
        "\n",
        "print(\"Gracias por usar el convertidor de divisas.\")"
      ],
      "metadata": {
        "colab": {
          "base_uri": "https://localhost:8080/"
        },
        "id": "jTtmiQDtlTpZ",
        "outputId": "deb6b942-0beb-4202-bf69-0361dc6aced8"
      },
      "execution_count": 28,
      "outputs": [
        {
          "output_type": "stream",
          "name": "stdout",
          "text": [
            "\n",
            "Aquí tienes una lista de algunas de las divisas más utilizadas y sus códigos:\n",
            "* Dólar estadounidense (USD)\n",
            "* Euro (EUR)\n",
            "* Yen japonés (JPY)\n",
            "* Libra esterlina (GBP)\n",
            "* Dólar australiano (AUD)\n",
            "* Dólar canadiense (CAD)\n",
            "* Franco suizo (CHF)\n",
            "* Yuan chino (CNY)\n",
            "* Dólar de Hong Kong (HKD)\n",
            "* Rupia india (INR)\n",
            "* Won surcoreano (KRW)\n",
            "* Rublo ruso (RUB)\n",
            "* Peso mexicano (MXN)\n",
            "\n",
            "Has entrado a un convertidor de divisas.\n",
            "Para salir, teclea 'Q'.\n",
            "1) Introduce el código de tres letras de la divisa que deseas convertir: MXN\n",
            "2) Introduce el código de divisa de destino: USD\n",
            "3) Introduce la cantidad a convertir (valor numérico): 100\n",
            "100.0 MXN son 5.42 USD\n",
            "------------------------------\n",
            "\n",
            "Has entrado a un convertidor de divisas.\n",
            "Para salir, teclea 'Q'.\n",
            "1) Introduce el código de tres letras de la divisa que deseas convertir: Q\n",
            "Gracias por usar el convertidor de divisas.\n"
          ]
        }
      ]
    }
  ]
}