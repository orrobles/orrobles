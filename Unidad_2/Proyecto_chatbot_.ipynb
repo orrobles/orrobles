{
  "nbformat": 4,
  "nbformat_minor": 0,
  "metadata": {
    "colab": {
      "provenance": [],
      "name": "Proyecto_chatbot_.ipynb",
      "authorship_tag": "ABX9TyPXlEnCOrBZQyM2HemRIKbH",
      "include_colab_link": true
    },
    "kernelspec": {
      "name": "python3",
      "display_name": "Python 3"
    },
    "language_info": {
      "name": "python"
    }
  },
  "cells": [
    {
      "cell_type": "markdown",
      "metadata": {
        "id": "view-in-github",
        "colab_type": "text"
      },
      "source": [
        "<a href=\"https://colab.research.google.com/github/orrobles/orrobles/blob/main/Unidad_2/Proyecto_chatbot_.ipynb\" target=\"_parent\"><img src=\"https://colab.research.google.com/assets/colab-badge.svg\" alt=\"Open In Colab\"/></a>"
      ]
    },
    {
      "cell_type": "markdown",
      "source": [
        "# **Proyecto 1 ChatBot Simple**\n",
        "\n",
        "**Oscar Robles Vásquez**\n",
        "\n",
        "*Departamento de Ingeniería Química*\n",
        "\n",
        "**Campus: Centro Universitario de Ciencias Exactas e Ingeniería.**\n",
        "\n",
        "**Fecha**: 12/10/2025\n"
      ],
      "metadata": {
        "id": "vZ9yXnqOosIC"
      }
    },
    {
      "cell_type": "markdown",
      "source": [],
      "metadata": {
        "id": "rIXY3H2NzXVW"
      }
    },
    {
      "cell_type": "code",
      "source": [
        "print(\"Soy un ChatBot\")\n",
        "nombre = input(\"¿Cuál es tu nombre? \")\n",
        "print(f\"¡Hola, {nombre}!\")"
      ],
      "metadata": {
        "colab": {
          "base_uri": "https://localhost:8080/"
        },
        "id": "xqHW2a21qMCC",
        "outputId": "39a9b347-6ff8-412f-b54e-4b80118ec430"
      },
      "execution_count": null,
      "outputs": [
        {
          "output_type": "stream",
          "name": "stdout",
          "text": [
            "Soy un ChatBot\n",
            "¿Cuál es tu nombre? Oscar\n",
            "¡Hola, Oscar!\n"
          ]
        }
      ]
    },
    {
      "cell_type": "code",
      "metadata": {
        "colab": {
          "base_uri": "https://localhost:8080/"
        },
        "id": "698d11e8",
        "outputId": "8c883159-c195-4e20-a44d-ecb205285698"
      },
      "source": [
        "print(\"\\nAhora intentaré adivinar la edad de un personaje ficticio.\")\n",
        "\n",
        "residuo_3 = int(input(\"¿Cuál es el residuo de la división de su edad entre 3? \"))\n",
        "residuo_5 = int(input(\"¿Cuál es el residuo de la división de su edad entre 5? \"))\n",
        "residuo_7 = int(input(\"¿Cuál es el residuo de la división de su edad entre 7? \"))\n",
        "\n",
        "edad_calculada = (residuo_3 * 70 + residuo_5 * 21 + residuo_7 * 15) % 105\n",
        "\n",
        "print(f\"La edad probable del personaje ficticio es: {edad_calculada}\")"
      ],
      "execution_count": null,
      "outputs": [
        {
          "output_type": "stream",
          "name": "stdout",
          "text": [
            "\n",
            "Ahora intentaré adivinar la edad de un personaje ficticio.\n",
            "¿Cuál es el residuo de la división de su edad entre 3? 7\n",
            "¿Cuál es el residuo de la división de su edad entre 5? 8\n",
            "¿Cuál es el residuo de la división de su edad entre 7? 9\n",
            "La edad probable del personaje ficticio es: 58\n"
          ]
        }
      ]
    },
    {
      "cell_type": "code",
      "source": [
        "print(\"\\nAhora, una pregunta de opción múltiple:\")\n",
        "\n",
        "pregunta = \"¿Qué clima favorece la formación de un buen científico?\"\n",
        "opciones = {\n",
        "    1: \"La dictadura\",\n",
        "    2: \"El control del pensamiento\",\n",
        "    3: \"Los mitos de masas\",\n",
        "    4: \"La libertad y la democracia\"\n",
        "}\n",
        "respuesta_correcta = 4\n",
        "\n",
        "while True:\n",
        "    print(pregunta)\n",
        "    for numero, opcion in opciones.items():\n",
        "        print(f\"{numero}) {opcion}\")\n",
        "\n",
        "    try:\n",
        "        respuesta_usuario = int(input(\"Introduce el número de tu respuesta: \"))\n",
        "        if respuesta_usuario == respuesta_correcta:\n",
        "            print(\"¡Respuesta correcta! ¡Felicidades!\")\n",
        "            break\n",
        "        elif respuesta_usuario in opciones:\n",
        "            print(\"Respuesta incorrecta. Inténtalo de nuevo.\")\n",
        "        else:\n",
        "            print(\"Valor inválido. Por favor, introduce el número de una opción válida.\")\n",
        "    except ValueError:\n",
        "        print(\"Entrada inválida. Por favor, introduce un número.\")"
      ],
      "metadata": {
        "colab": {
          "base_uri": "https://localhost:8080/"
        },
        "id": "u6DoYDREqz-u",
        "outputId": "012e4d15-d055-46eb-c55a-3bbbf0d371cf"
      },
      "execution_count": null,
      "outputs": [
        {
          "output_type": "stream",
          "name": "stdout",
          "text": [
            "\n",
            "Ahora, una pregunta de opción múltiple:\n",
            "¿Qué clima favorece la formación de un buen científico?\n",
            "1) La dictadura\n",
            "2) El control del pensamiento\n",
            "3) Los mitos de masas\n",
            "4) La libertad y la democracia\n",
            "Introduce el número de tu respuesta: 0\n",
            "Valor inválido. Por favor, introduce el número de una opción válida.\n",
            "¿Qué clima favorece la formación de un buen científico?\n",
            "1) La dictadura\n",
            "2) El control del pensamiento\n",
            "3) Los mitos de masas\n",
            "4) La libertad y la democracia\n",
            "Introduce el número de tu respuesta: 1\n",
            "Respuesta incorrecta. Inténtalo de nuevo.\n",
            "¿Qué clima favorece la formación de un buen científico?\n",
            "1) La dictadura\n",
            "2) El control del pensamiento\n",
            "3) Los mitos de masas\n",
            "4) La libertad y la democracia\n",
            "Introduce el número de tu respuesta: 4\n",
            "¡Respuesta correcta! ¡Felicidades!\n"
          ]
        }
      ]
    },
    {
      "cell_type": "code",
      "source": [
        "print(\"\\n¡Gracias por interactuar conmigo! ¡Adiós y buena suerte!\")"
      ],
      "metadata": {
        "colab": {
          "base_uri": "https://localhost:8080/"
        },
        "id": "wZzEmuj4xhKS",
        "outputId": "9ba5b991-fb17-4057-9f1a-82392de10165"
      },
      "execution_count": null,
      "outputs": [
        {
          "output_type": "stream",
          "name": "stdout",
          "text": [
            "\n",
            "¡Gracias por interactuar conmigo! ¡Adiós y buena suerte!\n"
          ]
        }
      ]
    }
  ]
}