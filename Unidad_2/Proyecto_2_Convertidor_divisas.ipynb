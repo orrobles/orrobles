{
  "nbformat": 4,
  "nbformat_minor": 0,
  "metadata": {
    "colab": {
      "provenance": [],
      "authorship_tag": "ABX9TyOseNQirFUFk8rH6N8PG70W",
      "include_colab_link": true
    },
    "kernelspec": {
      "name": "python3",
      "display_name": "Python 3"
    },
    "language_info": {
      "name": "python"
    }
  },
  "cells": [
    {
      "cell_type": "markdown",
      "metadata": {
        "id": "view-in-github",
        "colab_type": "text"
      },
      "source": [
        "<a href=\"https://colab.research.google.com/github/orrobles/orrobles/blob/main/Unidad_2/Proyecto_2_Convertidor_divisas.ipynb\" target=\"_parent\"><img src=\"https://colab.research.google.com/assets/colab-badge.svg\" alt=\"Open In Colab\"/></a>"
      ]
    },
    {
      "cell_type": "code",
      "execution_count": null,
      "metadata": {
        "id": "YEedxdRDh4eT"
      },
      "outputs": [],
      "source": []
    },
    {
      "cell_type": "markdown",
      "source": [
        "# **Proyecto 2 Convertidor de divisas**\n",
        "\n",
        "## **Oscar Robles Vásquez**\n",
        "\n",
        "# Departamento de Ingeniería Química\n",
        "\n",
        "### Campus: Centro Universitario de Ciencias Exactas e Ingeniería.\n",
        "\n",
        "***Fecha: 12/10/2025***"
      ],
      "metadata": {
        "id": "4V5Zzy-zh9Yh"
      }
    },
    {
      "cell_type": "code",
      "source": [
        "import json\n",
        "import requests\n",
        "\n",
        "def currency_search(cur):\n",
        "    r = requests.get(\"http://www.floatrates.com/daily/{}.json\".format(cur))\n",
        "    return r.text\n",
        "\n",
        "exchange_file = currency_search(\"mxn\")\n",
        "exchange_dict = json.loads(exchange_file)\n"
      ],
      "metadata": {
        "id": "sWCJ-hvWivq5"
      },
      "execution_count": 3,
      "outputs": []
    },
    {
      "cell_type": "code",
      "source": [
        "# acceder a una parte de diccionario\n",
        "print(exchange_dict[\"usd\"])\n",
        "\n",
        "# imprimir us contenido en un formato más amigable\n",
        "print(json.dumps(exchange_dict[\"usd\"], indent=4))\n"
      ],
      "metadata": {
        "colab": {
          "base_uri": "https://localhost:8080/"
        },
        "id": "dsULq00kixIB",
        "outputId": "8b4590c6-4573-48a1-fac6-cfd6c8ada9a2"
      },
      "execution_count": 4,
      "outputs": [
        {
          "output_type": "stream",
          "name": "stdout",
          "text": [
            "{'code': 'USD', 'alphaCode': 'USD', 'numericCode': '840', 'name': 'U.S. Dollar', 'rate': 0.054183423308404, 'date': 'Wed, 15 Oct 2025 15:55:08 GMT', 'inverseRate': 18.45582908832}\n",
            "{\n",
            "    \"code\": \"USD\",\n",
            "    \"alphaCode\": \"USD\",\n",
            "    \"numericCode\": \"840\",\n",
            "    \"name\": \"U.S. Dollar\",\n",
            "    \"rate\": 0.054183423308404,\n",
            "    \"date\": \"Wed, 15 Oct 2025 15:55:08 GMT\",\n",
            "    \"inverseRate\": 18.45582908832\n",
            "}\n"
          ]
        }
      ]
    }
  ]
}